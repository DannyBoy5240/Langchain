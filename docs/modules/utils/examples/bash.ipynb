{
 "cells": [
  {
   "cell_type": "markdown",
   "id": "8f210ec3",
   "metadata": {},
   "source": [
    "# Bash\n",
    "It can often be useful to have an LLM generate bash commands, and then run them. A common use case this is for letting it interact with your local file system. We provide an easy util to execute bash commands."
   ]
  },
  {
   "cell_type": "code",
   "execution_count": 1,
   "id": "f7b3767b",
   "metadata": {},
   "outputs": [],
   "source": [
    "from langchain.utilities import BashProcess"
   ]
  },
  {
   "cell_type": "code",
   "execution_count": 2,
   "id": "cf1c92f0",
   "metadata": {},
   "outputs": [],
   "source": [
    "bash = BashProcess()"
   ]
  },
  {
   "cell_type": "code",
   "execution_count": 3,
   "id": "2fa952fc",
   "metadata": {},
   "outputs": [
    {
     "name": "stdout",
     "output_type": "stream",
     "text": [
      "bash.ipynb\n",
      "google_search.ipynb\n",
      "python.ipynb\n",
      "requests.ipynb\n",
      "serpapi.ipynb\n",
      "\n"
     ]
    }
   ],
   "source": [
    "print(bash.run(\"ls\"))"
   ]
  },
  {
   "cell_type": "code",
   "execution_count": null,
   "id": "851fee9f",
   "metadata": {},
   "outputs": [],
   "source": []
  }
 ],
 "metadata": {
  "kernelspec": {
   "display_name": "Python 3 (ipykernel)",
   "language": "python",
   "name": "python3"
  },
  "language_info": {
   "codemirror_mode": {
    "name": "ipython",
    "version": 3
   },
   "file_extension": ".py",
   "mimetype": "text/x-python",
   "name": "python",
   "nbconvert_exporter": "python",
   "pygments_lexer": "ipython3",
   "version": "3.10.9"
  }
 },
 "nbformat": 4,
 "nbformat_minor": 5
}
