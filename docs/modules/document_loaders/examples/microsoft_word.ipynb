{
 "cells": [
  {
   "cell_type": "markdown",
   "id": "34c90eed",
   "metadata": {},
   "source": [
    "# Microsoft Word\n",
    "\n",
    "This notebook shows how to load text from Microsoft word documents."
   ]
  },
  {
   "cell_type": "code",
   "execution_count": 1,
   "id": "28ded768",
   "metadata": {},
   "outputs": [],
   "source": [
    "from langchain.document_loaders import UnstructuredDocxLoader"
   ]
  },
  {
   "cell_type": "code",
   "execution_count": 2,
   "id": "f1f26035",
   "metadata": {},
   "outputs": [],
   "source": [
    "loader = UnstructuredDocxLoader('example_data/fake.docx')"
   ]
  },
  {
   "cell_type": "code",
   "execution_count": 3,
   "id": "2c87dde9",
   "metadata": {},
   "outputs": [],
   "source": [
    "data = loader.load()"
   ]
  },
  {
   "cell_type": "code",
   "execution_count": 4,
   "id": "0e4a884c",
   "metadata": {},
   "outputs": [
    {
     "data": {
      "text/plain": [
       "[Document(page_content='Lorem ipsum dolor sit amet.', lookup_str='', metadata={'source': 'example_data/fake.docx'}, lookup_index=0)]"
      ]
     },
     "execution_count": 4,
     "metadata": {},
     "output_type": "execute_result"
    }
   ],
   "source": [
    "data"
   ]
  },
  {
   "cell_type": "markdown",
   "id": "5d1472e9",
   "metadata": {},
   "source": [
    "## Retain Elements\n",
    "\n",
    "Under the hood, Unstructured creates different \"elements\" for different chunks of text. By default we combine those together, but you can easily keep that separation by specifying `mode=\"elements\"`."
   ]
  },
  {
   "cell_type": "code",
   "execution_count": 2,
   "id": "93abf60b",
   "metadata": {},
   "outputs": [],
   "source": [
    "loader = UnstructuredDocxLoader('example_data/fake.docx', mode=\"elements\")"
   ]
  },
  {
   "cell_type": "code",
   "execution_count": 3,
   "id": "c35cdbcc",
   "metadata": {},
   "outputs": [],
   "source": [
    "data = loader.load()"
   ]
  },
  {
   "cell_type": "code",
   "execution_count": 4,
   "id": "fae2d730",
   "metadata": {},
   "outputs": [
    {
     "data": {
      "text/plain": [
       "[Document(page_content='Lorem ipsum dolor sit amet.', lookup_str='', metadata={'source': 'example_data/fake.docx'}, lookup_index=0)]"
      ]
     },
     "execution_count": 4,
     "metadata": {},
     "output_type": "execute_result"
    }
   ],
   "source": [
    "data"
   ]
  },
  {
   "cell_type": "code",
   "execution_count": null,
   "id": "961a7b1d",
   "metadata": {},
   "outputs": [],
   "source": []
  }
 ],
 "metadata": {
  "kernelspec": {
   "display_name": "Python 3 (ipykernel)",
   "language": "python",
   "name": "python3"
  },
  "language_info": {
   "codemirror_mode": {
    "name": "ipython",
    "version": 3
   },
   "file_extension": ".py",
   "mimetype": "text/x-python",
   "name": "python",
   "nbconvert_exporter": "python",
   "pygments_lexer": "ipython3",
   "version": "3.9.1"
  }
 },
 "nbformat": 4,
 "nbformat_minor": 5
}
