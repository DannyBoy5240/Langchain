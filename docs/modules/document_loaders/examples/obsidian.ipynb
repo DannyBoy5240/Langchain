{
 "cells": [
  {
   "cell_type": "markdown",
   "id": "1dc7df1d",
   "metadata": {},
   "source": [
    "# Obsidian\n",
    "This notebook covers how to load documents from an Obsidian database.\n",
    "\n",
    "Since Obsidian is just stored on disk as a folder of Markdown files, the loader just takes a path to this directory."
   ]
  },
  {
   "cell_type": "code",
   "execution_count": 1,
   "id": "007c5cbf",
   "metadata": {},
   "outputs": [],
   "source": [
    "from langchain.document_loaders import ObsidianLoader"
   ]
  },
  {
   "cell_type": "code",
   "execution_count": null,
   "id": "a1caec59",
   "metadata": {},
   "outputs": [],
   "source": [
    "loader = ObsidianLoader(\"<path-to-obsidian>\")"
   ]
  },
  {
   "cell_type": "code",
   "execution_count": null,
   "id": "b1c30ff7",
   "metadata": {},
   "outputs": [],
   "source": [
    "docs = loader.load()"
   ]
  }
 ],
 "metadata": {
  "kernelspec": {
   "display_name": "Python 3 (ipykernel)",
   "language": "python",
   "name": "python3"
  },
  "language_info": {
   "codemirror_mode": {
    "name": "ipython",
    "version": 3
   },
   "file_extension": ".py",
   "mimetype": "text/x-python",
   "name": "python",
   "nbconvert_exporter": "python",
   "pygments_lexer": "ipython3",
   "version": "3.10.9"
  }
 },
 "nbformat": 4,
 "nbformat_minor": 5
}
