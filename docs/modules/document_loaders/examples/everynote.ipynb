{
 "cells": [
  {
   "cell_type": "markdown",
   "id": "56ac1584",
   "metadata": {},
   "source": [
    "# EveryNote\n",
    "\n",
    "How to load EveryNote file from disk."
   ]
  },
  {
   "cell_type": "code",
   "execution_count": 1,
   "id": "1a53ece0",
   "metadata": {},
   "outputs": [],
   "source": [
    "# !pip install pypandoc\n",
    "# import pypandoc\n",
    "\n",
    "# pypandoc.download_pandoc()"
   ]
  },
  {
   "cell_type": "code",
   "execution_count": 5,
   "id": "88df766f",
   "metadata": {},
   "outputs": [
    {
     "data": {
      "text/plain": [
       "[Document(page_content='testing this\\n\\nwhat happens?\\n\\nto the world?\\n', lookup_str='', metadata={'source': 'example_data/testing.enex'}, lookup_index=0)]"
      ]
     },
     "execution_count": 5,
     "metadata": {},
     "output_type": "execute_result"
    }
   ],
   "source": [
    "from langchain.document_loaders import EveryNoteLoader\n",
    "\n",
    "loader = EveryNoteLoader(\"example_data/testing.enex\")\n",
    "loader.load()"
   ]
  },
  {
   "cell_type": "code",
   "execution_count": null,
   "id": "c1329905",
   "metadata": {},
   "outputs": [],
   "source": []
  }
 ],
 "metadata": {
  "kernelspec": {
   "display_name": "Python 3 (ipykernel)",
   "language": "python",
   "name": "python3"
  },
  "language_info": {
   "codemirror_mode": {
    "name": "ipython",
    "version": 3
   },
   "file_extension": ".py",
   "mimetype": "text/x-python",
   "name": "python",
   "nbconvert_exporter": "python",
   "pygments_lexer": "ipython3",
   "version": "3.9.1"
  }
 },
 "nbformat": 4,
 "nbformat_minor": 5
}
