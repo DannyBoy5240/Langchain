{
 "cells": [
  {
   "cell_type": "markdown",
   "id": "17812129",
   "metadata": {},
   "source": [
    "# ReadTheDocs Documentation\n",
    "This notebook covers how to load content from html that was generated as part of a Read-The-Docs build.\n",
    "\n",
    "For an example of this in the wild, see [here](https://github.com/hwchase17/chat-langchain).\n",
    "\n",
    "This assumes that the html has already been scraped into a folder. This can be done by uncommenting and running the following command"
   ]
  },
  {
   "cell_type": "code",
   "execution_count": null,
   "id": "84696e27",
   "metadata": {},
   "outputs": [],
   "source": [
    "#!wget -r -A.html -P rtdocs https://langchain.readthedocs.io/en/latest/"
   ]
  },
  {
   "cell_type": "code",
   "execution_count": 2,
   "id": "92dd950b",
   "metadata": {},
   "outputs": [],
   "source": [
    "from langchain.document_loaders import ReadTheDocsLoader"
   ]
  },
  {
   "cell_type": "code",
   "execution_count": 3,
   "id": "494567c3",
   "metadata": {},
   "outputs": [],
   "source": [
    "loader = ReadTheDocsLoader(\"rtdocs\")"
   ]
  },
  {
   "cell_type": "code",
   "execution_count": null,
   "id": "e2e6d6f0",
   "metadata": {},
   "outputs": [],
   "source": [
    "docs = loader.load()"
   ]
  }
 ],
 "metadata": {
  "kernelspec": {
   "display_name": "Python 3 (ipykernel)",
   "language": "python",
   "name": "python3"
  },
  "language_info": {
   "codemirror_mode": {
    "name": "ipython",
    "version": 3
   },
   "file_extension": ".py",
   "mimetype": "text/x-python",
   "name": "python",
   "nbconvert_exporter": "python",
   "pygments_lexer": "ipython3",
   "version": "3.10.9"
  }
 },
 "nbformat": 4,
 "nbformat_minor": 5
}
